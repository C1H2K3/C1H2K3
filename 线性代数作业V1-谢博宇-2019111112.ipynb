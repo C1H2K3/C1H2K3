{
 "cells": [
  {
   "cell_type": "markdown",
   "metadata": {},
   "source": [
    "# <center>对线性代数中矩阵计算演练及其乘法定义的意义的思考</center>\n"
   ]
  },
  {
   "cell_type": "markdown",
   "metadata": {},
   "source": [
    "### <center>谢博宇</center>\n",
    "#### <center>深圳大学南特商学院本科生  金融科技实验班</center>"
   ]
  },
  {
   "cell_type": "markdown",
   "metadata": {},
   "source": [
    "【**摘要**】 矩阵运算演练是线性代数中十分重要的一部分，而矩阵乘法定义的意义揭示了矩阵对状态改变，图形旋转以及相关事物在特定情况下的发展趋势。\n"
   ]
  },
  {
   "cell_type": "markdown",
   "metadata": {},
   "source": [
    "【**关键词**】矩阵运算演练，对矩阵乘法定义的意义理解和思考"
   ]
  },
  {
   "cell_type": "markdown",
   "metadata": {},
   "source": [
    "## 1  矩阵计算及其演练"
   ]
  },
  {
   "cell_type": "markdown",
   "metadata": {},
   "source": [
    "### 1.矩阵的定义"
   ]
  },
  {
   "cell_type": "markdown",
   "metadata": {},
   "source": [
    "定义1      由m$\\times$n个数a<sub>ij</sub>(i=1,2,…，m；j=1,2,…，n)排成的m行n列的数表"
   ]
  },
  {
   "cell_type": "markdown",
   "metadata": {},
   "source": [
    "$$A=\n",
    " \\begin{pmatrix}\n",
    "    a_{11} & a_{12} & \\cdots & a_{1n}\\\\\n",
    "    a_{21}&  a_{22} & \\cdots & a_{2n}\\\\\n",
    "   \\vdots & \\vdots & \\ddots & \\vdots \\\\\n",
    "    a_{m1} & a_{m2} & \\cdots & a_{mn}\n",
    "  \\end{pmatrix} \n",
    "$$"
   ]
  },
  {
   "cell_type": "markdown",
   "metadata": {},
   "source": [
    "称为m行n列矩阵，简称m$\\times$n矩阵。"
   ]
  },
  {
   "cell_type": "markdown",
   "metadata": {},
   "source": [
    "### 2.矩阵相等"
   ]
  },
  {
   "cell_type": "markdown",
   "metadata": {},
   "source": [
    "当且仅当两个矩阵的行数、列数都相等时，才称它们是同姓矩阵。"
   ]
  },
  {
   "cell_type": "markdown",
   "metadata": {},
   "source": [
    "如果A=(a<sub>ij</sub>)与B=(b<sub>ij</sub>)是同型矩阵，并且它们的对应元素相等，即"
   ]
  },
  {
   "cell_type": "markdown",
   "metadata": {},
   "source": [
    "<center>a<sub>ij</sub>=b<sub>ij</sub>(i=1,2,…，m；j=1,2,…，n)</center>"
   ]
  },
  {
   "cell_type": "markdown",
   "metadata": {},
   "source": [
    "那么就称矩阵A与矩阵B 相等，记作"
   ]
  },
  {
   "cell_type": "markdown",
   "metadata": {},
   "source": [
    " <center>A=B</center>"
   ]
  },
  {
   "cell_type": "markdown",
   "metadata": {},
   "source": [
    "### 3.矩阵的加法和乘法"
   ]
  },
  {
   "cell_type": "markdown",
   "metadata": {},
   "source": [
    "#### （1）矩阵的加法"
   ]
  },
  {
   "cell_type": "markdown",
   "metadata": {},
   "source": [
    "定义：设有两个m$\\times$n矩阵A=(a<sub>ij</sub>)和B=(b<sub>ij</sub>),那么矩阵A与B的和记作A+B,规定为"
   ]
  },
  {
   "cell_type": "markdown",
   "metadata": {},
   "source": [
    "$$A+B=\n",
    " \\begin{pmatrix}\n",
    "    a_{11}+b_{11} & a_{12}+b_{12} & \\cdots & a_{1n}+b_{1n}\\\\\n",
    "    a_{21}+b_{21} & a_{22}+b_{22} & \\cdots & a_{2n}+b_{2n} \\\\\n",
    "   \\vdots & \\vdots & \\ddots & \\vdots \\\\\n",
    "    a_{m1}+b_{m1} & a_{m2}+b_{m2} & \\cdots & a_{mn}+b_{mn}\n",
    "  \\end{pmatrix} \n",
    "$$"
   ]
  },
  {
   "cell_type": "markdown",
   "metadata": {},
   "source": [
    "注意：只有当两个矩阵是同型矩阵时，这两个矩阵才能进行加法运算。"
   ]
  },
  {
   "cell_type": "markdown",
   "metadata": {},
   "source": [
    "#### （2）矩阵的乘法"
   ]
  },
  {
   "cell_type": "markdown",
   "metadata": {},
   "source": [
    "数乘：数λ与矩阵A的乘积记作λA或Aλ,规定为"
   ]
  },
  {
   "cell_type": "markdown",
   "metadata": {},
   "source": [
    "$$λA=Aλ=\n",
    " \\begin{pmatrix}\n",
    "   λa_{11} & λa_{12} & \\cdots & λa_{1n}\\\\\n",
    "   λa_{21} & λa_{22} & \\cdots & λa_{2n} \\\\\n",
    "   \\vdots & \\vdots & \\ddots & \\vdots \\\\\n",
    "   λa_{m1} & λa_{m2} & \\cdots & λa_{mn}\n",
    "  \\end{pmatrix} \n",
    "$$"
   ]
  },
  {
   "cell_type": "markdown",
   "metadata": {},
   "source": [
    "注意：数乘矩阵满足分配律、结合律和交换律"
   ]
  },
  {
   "cell_type": "markdown",
   "metadata": {},
   "source": [
    "矩阵与矩阵相乘"
   ]
  },
  {
   "cell_type": "markdown",
   "metadata": {},
   "source": [
    "定义：设A=(a<sub>ij</sub>)是一个m$\\times$s矩阵，B=(b<sub>ij</sub>)是一个s$\\times$n矩阵那么规定矩阵A与矩阵B的乘积是一个m$\\times$n矩阵C=(c<sub>ij</sub>)，\n",
    "其中"
   ]
  },
  {
   "cell_type": "markdown",
   "metadata": {},
   "source": [
    "<center>$$ c_{ij}= a_{i1}b_{1j}+a_{i2}b_{2j}+\\cdots+a_{is}b_{sj}=\\sum_{k=1}^{s}{a_{ik}b_{kj}}$$</center>\n",
    "<center>(i=1,2,…，m；j=1,2,…，n)</center>"
   ]
  },
  {
   "cell_type": "markdown",
   "metadata": {},
   "source": [
    "并把此乘积记作"
   ]
  },
  {
   "cell_type": "markdown",
   "metadata": {},
   "source": [
    "<center>C=AB</center>"
   ]
  },
  {
   "cell_type": "markdown",
   "metadata": {},
   "source": [
    "注意：只有当第一个矩阵（左矩阵）的列数等于第二个矩阵（右矩阵）的行数时，两个矩阵才能相乘。"
   ]
  },
  {
   "cell_type": "markdown",
   "metadata": {},
   "source": [
    "下面我们举一个例子"
   ]
  },
  {
   "cell_type": "markdown",
   "metadata": {},
   "source": [
    "求矩阵\n",
    "$$A=                              \n",
    " \\begin{pmatrix}\n",
    "   4 & -1 & 2 & 1\\\\\n",
    "   1 & 1 & 0 & 3 \\\\        \n",
    "   0 & 3 & 1 & 4 \\\\\n",
    "  \\end{pmatrix}\n",
    "$$\n",
    "<center>与</center>\n",
    "$$B=                              \n",
    " \\begin{pmatrix}\n",
    "   1 & 2 \\\\\n",
    "   0 & 1 \\\\        \n",
    "   3 & 0 \\\\\n",
    "   -1 & 2 \\\\ \n",
    "  \\end{pmatrix}\n",
    "$$的乘积AB"
   ]
  },
  {
   "cell_type": "markdown",
   "metadata": {},
   "source": [
    "解 \n",
    "$$C=AB=                              \n",
    " \\begin{pmatrix}\n",
    "   4\\times1+(-1)\\times0+2\\times3+1\\times(-1)   &   4\\times2+(-1)\\times1+2\\times0+1\\times2\\\\\n",
    "   1\\times1+1\\times0+0\\times3+3\\times(-1)     &     1\\times2+1\\times1+0\\times0+3\\times2\\\\        \n",
    "   0\\times1+3\\times0+1\\times3+4\\times(-1)     & 0\\times2+3\\times1+1\\times0+4\\times2 \\\\\n",
    "  \\end{pmatrix}\n",
    "=\\begin{pmatrix}\n",
    "   9 & 9 \\\\\n",
    "   -2 & 9\\\\        \n",
    "   -1 & 11\\\\ \n",
    "  \\end{pmatrix}$$"
   ]
  },
  {
   "cell_type": "markdown",
   "metadata": {},
   "source": [
    "### 4.下面我们用ipython写一个能够计算两矩阵乘积的代码"
   ]
  },
  {
   "cell_type": "markdown",
   "metadata": {},
   "source": [
    "#### (1)计算AB"
   ]
  },
  {
   "cell_type": "code",
   "execution_count": 1,
   "metadata": {},
   "outputs": [
    {
     "data": {
      "text/latex": [
       "$\\displaystyle \\left[\\begin{matrix}19\\end{matrix}\\right]$"
      ],
      "text/plain": [
       "[19]"
      ]
     },
     "execution_count": 1,
     "metadata": {},
     "output_type": "execute_result"
    }
   ],
   "source": [
    "from sympy import init_printing, Matrix, symbols, eye, Rational\n",
    "init_printing()\n",
    "B = Matrix([[2], [0], [0],[1]])\n",
    "A = Matrix([[5,1,3,9]])\n",
    "A, B\n",
    "C = A * B\n",
    "C"
   ]
  },
  {
   "cell_type": "markdown",
   "metadata": {},
   "source": [
    "#### (2)计算BA"
   ]
  },
  {
   "cell_type": "code",
   "execution_count": 2,
   "metadata": {},
   "outputs": [
    {
     "data": {
      "text/latex": [
       "$\\displaystyle \\left[\\begin{matrix}10 & 2 & 6 & 18\\\\0 & 0 & 0 & 0\\\\0 & 0 & 0 & 0\\\\5 & 1 & 3 & 9\\end{matrix}\\right]$"
      ],
      "text/plain": [
       "⎡10  2  6  18⎤\n",
       "⎢            ⎥\n",
       "⎢0   0  0  0 ⎥\n",
       "⎢            ⎥\n",
       "⎢0   0  0  0 ⎥\n",
       "⎢            ⎥\n",
       "⎣5   1  3  9 ⎦"
      ]
     },
     "execution_count": 2,
     "metadata": {},
     "output_type": "execute_result"
    }
   ],
   "source": [
    "from sympy import init_printing, Matrix, symbols, eye, Rational\n",
    "init_printing()\n",
    "B = Matrix([[2], [0], [0],[1]])\n",
    "A = Matrix([[5,1,3,9]])\n",
    "A, B\n",
    "D = B * A\n",
    "D"
   ]
  },
  {
   "cell_type": "markdown",
   "metadata": {},
   "source": [
    "## 4对矩阵乘法定义的意义的理解与思考"
   ]
  },
  {
   "cell_type": "markdown",
   "metadata": {},
   "source": [
    "#### （1）矩阵乘法所蕴含的几何意义"
   ]
  },
  {
   "cell_type": "markdown",
   "metadata": {},
   "source": [
    "#### 我们可以把矩阵解读为对空间的一种特定变换"
   ]
  },
  {
   "cell_type": "markdown",
   "metadata": {},
   "source": [
    "#### 把矩阵的列看作变化后的基向量，把矩阵向量乘法看作一个线性组合"
   ]
  },
  {
   "cell_type": "markdown",
   "metadata": {},
   "source": [
    "#### 我们可以把一个2$\\times$1的矩阵看作是二维平面上的向量，把一个3$\\times$1的矩阵看作是三维平面上的向量,实际上，我认为，一个n$\\times$1的列矩阵与一个n维的向量是等效的"
   ]
  },
  {
   "cell_type": "markdown",
   "metadata": {},
   "source": [
    "(注意：严格意义上，线性变化是将向量作为输出和输入的一类函数，线性变化可以把向量进行拉伸挤压)"
   ]
  },
  {
   "cell_type": "markdown",
   "metadata": {},
   "source": [
    "现在，让我们在二维空间上来分析一下"
   ]
  },
  {
   "cell_type": "markdown",
   "metadata": {},
   "source": [
    "$$\n",
    "\\left[\n",
    "\\begin{matrix}\n",
    "    a&b\\\\\n",
    "    c&d\\\\\n",
    "\\end{matrix}\n",
    "\\right]\n",
    "\\left[\n",
    "\\begin{matrix}\n",
    "    x\\\\\n",
    "    y\\\\\n",
    "\\end{matrix}\n",
    "\\right]\n",
    "=\n",
    "x\\left[\n",
    "\\begin{matrix}\n",
    "    a\\\\\n",
    "    c\\\\\n",
    "\\end{matrix}\n",
    "\\right]\n",
    "+\n",
    "y\\left[\n",
    "\\begin{matrix}\n",
    "    b\\\\\n",
    "    d\\\\\n",
    "\\end{matrix}\n",
    "\\right]\n",
    "=\n",
    "\\left[\n",
    "\\begin{matrix}\n",
    "    ax+by\\\\\n",
    "    cx+dy\\\\\n",
    "\\end{matrix}\n",
    "\\right]\n",
    "$$"
   ]
  },
  {
   "cell_type": "markdown",
   "metadata": {},
   "source": [
    "根据这个式子，我们是把\n",
    "$$\n",
    "\\left[\n",
    "\\begin{matrix}\n",
    "    a\\\\\n",
    "    c\\\\\n",
    "\\end{matrix}\n",
    "\\right]\n",
    "$$当成基底$$\\vec i$$\n",
    "把\n",
    "$$\n",
    "\\left[\n",
    "\\begin{matrix}\n",
    "    b\\\\\n",
    "    d\\\\\n",
    "\\end{matrix}\n",
    "\\right]\n",
    "$$当成另一个基底$$\\vec j$$"
   ]
  },
  {
   "cell_type": "markdown",
   "metadata": {},
   "source": [
    "(a)当这两个基底不共线时，无论x,y如何变化，输出的向量一定是在这两个基向量所确定的平面上的；"
   ]
  },
  {
   "cell_type": "markdown",
   "metadata": {},
   "source": [
    "(b)当这两个基底共线时，无论x,y如何变化输出的向量一定是在这两个共线的基向量所在的直线上，"
   ]
  },
  {
   "cell_type": "markdown",
   "metadata": {},
   "source": [
    "这时，我们注意到，在第二种情况中，输出的向量的集合是一条直线，而输入的向量的集合是一个二维平面，所以我们得出结论："
   ]
  },
  {
   "cell_type": "markdown",
   "metadata": {},
   "source": [
    "#### 矩阵可以实现对空间的挤压：即矩阵运算可以将一个二维的空间转化成一个一维的空间"
   ]
  },
  {
   "cell_type": "markdown",
   "metadata": {},
   "source": [
    "### 基于此，我们还可以大胆猜测：矩阵运算可以实现不同维度空间的相互转化以及在同一纬度中物体的旋转放缩拉伸挤压取对称等等"
   ]
  },
  {
   "cell_type": "markdown",
   "metadata": {},
   "source": [
    "#### (2)马尔科夫链与转移矩阵"
   ]
  },
  {
   "cell_type": "markdown",
   "metadata": {},
   "source": [
    "转移概率矩阵"
   ]
  },
  {
   "cell_type": "markdown",
   "metadata": {},
   "source": [
    "定义：矩阵各元素都是非负的，并且各行元素之和等于1，各元素用概率表示，在一定条件下是互相转移的，故称为转移概率矩阵。"
   ]
  },
  {
   "cell_type": "markdown",
   "metadata": {},
   "source": [
    "特征："
   ]
  },
  {
   "cell_type": "markdown",
   "metadata": {},
   "source": [
    "①0≤P<sub>ij</sub>≤1"
   ]
  },
  {
   "cell_type": "markdown",
   "metadata": {},
   "source": [
    "②\n",
    "$$\\sum_{}^{}{P_{ij}}=1$$\n",
    "<center>(i=1,2,…，m；j=1,2,…，n)</center>，即矩阵中每一行转移概率之和等于1"
   ]
  },
  {
   "cell_type": "markdown",
   "metadata": {},
   "source": [
    "应用："
   ]
  },
  {
   "cell_type": "markdown",
   "metadata": {},
   "source": [
    "(1)用转移概率矩阵预测市场占有率的变化"
   ]
  },
  {
   "cell_type": "markdown",
   "metadata": {},
   "source": [
    "(2)用转移概率矩阵预测某事件发生的概率以及该事件最后是否能达到一个动态平衡的状态"
   ]
  },
  {
   "cell_type": "markdown",
   "metadata": {},
   "source": [
    "#### 此时，矩阵就就代表了各种情况发生的概率以及其影响因素所占比重"
   ]
  },
  {
   "cell_type": "markdown",
   "metadata": {},
   "source": [
    "## 5结束语"
   ]
  },
  {
   "cell_type": "markdown",
   "metadata": {},
   "source": [
    "本文阐明了矩阵的相关定义以及其运算法则，并着重对矩阵乘法定义的意义进行了分析研究，"
   ]
  },
  {
   "cell_type": "markdown",
   "metadata": {},
   "source": [
    "在能运用ipython代码解决矩阵乘法的同时，在几何意义以及转移概率上深度理解矩阵，能够为我们接下来线性代数的学习提供很大的帮助。"
   ]
  }
 ],
 "metadata": {
  "kernelspec": {
   "display_name": "Python 3",
   "language": "python",
   "name": "python3"
  },
  "language_info": {
   "codemirror_mode": {
    "name": "ipython",
    "version": 3
   },
   "file_extension": ".py",
   "mimetype": "text/x-python",
   "name": "python",
   "nbconvert_exporter": "python",
   "pygments_lexer": "ipython3",
   "version": "3.7.3"
  }
 },
 "nbformat": 4,
 "nbformat_minor": 2
}
